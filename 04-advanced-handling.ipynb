{
 "cells": [
  {
   "cell_type": "markdown",
   "metadata": {},
   "source": [
    "Examples from _01-initial-chart-generation.ipynb_ and from _02-two-charts.ipynb_ were taken from [Matplotlib documentation](https://matplotlib.org/stable/users/explain/figure/api_interfaces.html) without any change. In this notebook, exercises more similar to real case scenarios will be performed.\n"
   ]
  },
  {
   "cell_type": "markdown",
   "metadata": {},
   "source": [
    "Getting data (Steel Industry Data)\n"
   ]
  },
  {
   "cell_type": "code",
   "execution_count": null,
   "metadata": {},
   "outputs": [],
   "source": [
    "import pandas as pd\n",
    "\n",
    "steel_industry_data = pd.read_csv(\"Steel_industry_data.csv\")\n",
    "print(steel_industry_data.shape)\n",
    "steel_industry_data.head()\n",
    "\n",
    "steel_industry_data_filtered = steel_industry_data[0:200]\n"
   ]
  },
  {
   "cell_type": "markdown",
   "metadata": {},
   "source": [
    "Function to create first chart type\n"
   ]
  },
  {
   "cell_type": "code",
   "execution_count": null,
   "metadata": {},
   "outputs": [],
   "source": [
    "def get_markevery_property(data_frame) -> int:\n",
    "    \"\"\"\"\n",
    "        This function centralize the calculation of number of data points to\n",
    "        be plotted in a `matplotlib` chart\n",
    "    \"\"\"\n",
    "    total_data_points = len(data_frame)\n",
    "    expected_number_of_points = 30\n",
    "    mark_every = int(total_data_points/expected_number_of_points)\n",
    "\n",
    "    if mark_every == 0:\n",
    "        return 1\n",
    "    return mark_every\n"
   ]
  },
  {
   "cell_type": "code",
   "execution_count": null,
   "metadata": {},
   "outputs": [],
   "source": [
    "import matplotlib.pyplot as plt\n",
    "\n",
    "\n",
    "def create_energy_usage_chart(data_frame, ax):\n",
    "    mark_every = get_markevery_property(data_frame)\n",
    "\n",
    "    lines = list()\n",
    "    series_names = list()\n",
    "\n",
    "    serie_1 = \"Usage_kWh\"\n",
    "    line1, = ax.plot(\n",
    "        data_frame[serie_1],\n",
    "        label=serie_1,\n",
    "        markevery=mark_every,\n",
    "        linestyle=\"--\",\n",
    "        marker='*',\n",
    "        color=\"orange\"\n",
    "    )\n",
    "\n",
    "    lines.append(line1)\n",
    "    series_names.append(serie_1)\n",
    "\n",
    "\n",
    "def create_lagging_current_chart(data_frame, ax):\n",
    "    mark_every = get_markevery_property(data_frame)\n",
    "\n",
    "    lines = list()\n",
    "    series_names = list()\n",
    "\n",
    "    serie_1 = \"Lagging_Current_Reactive.Power_kVarh\"\n",
    "    line1, = ax.plot(\n",
    "        data_frame[serie_1],\n",
    "        label=serie_1,\n",
    "        markevery=mark_every,\n",
    "        linestyle=\"--\",\n",
    "        marker='*',\n",
    "        color=\"darkblue\"\n",
    "    )\n",
    "\n",
    "    lines.append(line1)\n",
    "    series_names.append(serie_1)\n"
   ]
  },
  {
   "cell_type": "markdown",
   "metadata": {},
   "source": [
    "Usage of chart generation functions\n"
   ]
  },
  {
   "cell_type": "code",
   "execution_count": null,
   "metadata": {},
   "outputs": [],
   "source": [
    "import matplotlib.pyplot as plt\n",
    "\n",
    "fig, axs = plt.subplots(1, 2)\n",
    "\n",
    "create_energy_usage_chart(steel_industry_data_filtered, axs[0])\n",
    "create_lagging_current_chart(steel_industry_data_filtered, axs[1])\n",
    "\n",
    "fig, axs = plt.subplots(2, 1)\n",
    "\n",
    "create_energy_usage_chart(steel_industry_data_filtered, axs[0])\n",
    "create_lagging_current_chart(steel_industry_data_filtered, axs[1])\n",
    "\n",
    "fig, axs = plt.subplots(2, 2)\n",
    "\n",
    "create_energy_usage_chart(steel_industry_data_filtered, axs[0][0])\n",
    "create_lagging_current_chart(steel_industry_data_filtered, axs[1][1])\n",
    "\n",
    "fig, axs = plt.subplots(2, 2)\n",
    "\n",
    "create_energy_usage_chart(steel_industry_data_filtered, axs[0][1])\n",
    "create_lagging_current_chart(steel_industry_data_filtered, axs[1][0])\n"
   ]
  }
 ],
 "metadata": {
  "kernelspec": {
   "display_name": ".venv312",
   "language": "python",
   "name": "python3"
  },
  "language_info": {
   "codemirror_mode": {
    "name": "ipython",
    "version": 3
   },
   "file_extension": ".py",
   "mimetype": "text/x-python",
   "name": "python",
   "nbconvert_exporter": "python",
   "pygments_lexer": "ipython3",
   "version": "3.12.1"
  }
 },
 "nbformat": 4,
 "nbformat_minor": 2
}
